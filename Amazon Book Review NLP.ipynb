{
 "cells": [
  {
   "cell_type": "markdown",
   "metadata": {},
   "source": [
    "# Amazon Book Review Text Analysis\n",
    "****\n",
    "This project uses Amazon book review data obtained from UCSD to achieve the following:\n",
    "\n",
    "1) Understand how favorably readers find books on average from the star rating system and determine the most frequently used words and bi-grams in review text.\n",
    "\n",
    "2) Create a Naive Bayes model to predict star rating of review based on textual analysis.\n",
    "\n",
    "3) Recommend books based on topics determined through LDA that are included in favorable reviews by the user."
   ]
  },
  {
   "cell_type": "markdown",
   "metadata": {},
   "source": [
    "## Data Importation"
   ]
  },
  {
   "cell_type": "code",
   "execution_count": 17,
   "metadata": {},
   "outputs": [
    {
     "name": "stdout",
     "output_type": "stream",
     "text": [
      "Waiting... Reviews: 1, Products: 0, Merged: 0\n",
      "Waiting... Reviews: 1, Products: 18154, Merged: 27192\n",
      "Waiting... Reviews: 1, Products: 30721, Merged: 61230\n",
      "Waiting... Reviews: 1, Products: 53130, Merged: 103992\n",
      "Waiting... Reviews: 1, Products: 75611, Merged: 143618\n",
      "Waiting... Reviews: 1, Products: 87264, Merged: 163389\n",
      "Waiting... Reviews: 1, Products: 98577, Merged: 184122\n",
      "Waiting... Reviews: 1, Products: 111463, Merged: 211572\n",
      "Waiting... Reviews: 1, Products: 135165, Merged: 251707\n",
      "Waiting... Reviews: 1, Products: 162968, Merged: 297403\n",
      "Waiting... Reviews: 1, Products: 181021, Merged: 327295\n",
      "Waiting... Reviews: 1, Products: 199168, Merged: 363246\n",
      "Waiting... Reviews: 1, Products: 217613, Merged: 402439\n",
      "Waiting... Reviews: 1, Products: 232851, Merged: 429716\n",
      "Waiting... Reviews: 1, Products: 238569, Merged: 438673\n",
      "Waiting... Reviews: 1, Products: 240606, Merged: 441701\n",
      "Waiting... Reviews: 1, Products: 252406, Merged: 460663\n",
      "Waiting... Reviews: 1, Products: 272102, Merged: 492397\n",
      "Reviews Length: 1\n",
      "Products Length: 277996\n",
      "Merged Length: 500005\n",
      "\n",
      "Example: {'reviewerID': 'A10000012B7CGYKOMPQ4L', 'asin': '000100039X', 'reviewerName': 'Adam', 'helpful': [0, 0], 'reviewText': 'Spiritually and mentally inspiring! A book that allows you to question your morals and will help you discover who you really are!', 'overall': 5.0, 'summary': 'Wonderful!', 'title': 'The Prophet'}\n",
      "\n",
      "Elapsed Time in Seconds: 224.6584460735321\n"
     ]
    }
   ],
   "source": [
    "from __future__ import with_statement\n",
    "import pandas as pd\n",
    "import time\n",
    "import threading\n",
    "\n",
    "def readProducts(path, reviews, reviewsLock, released, releasedLock, products, productsLock, merged, mergedLock):\n",
    "  #open the file at the specified path\n",
    "  with open(path, 'rb') as f:\n",
    "    \n",
    "    #For every line in the compressed file\n",
    "    for line in f:\n",
    "        if len(merged) < 500000: #set limit of a million reviews read in\n",
    "            lineDict = eval(line)\n",
    "\n",
    "            #get the product key\n",
    "            asin = str(lineDict.get('asin'))\n",
    "            if asin == None:\n",
    "              del asin\n",
    "              del lineDict\n",
    "              del line\n",
    "              continue\n",
    "\n",
    "            #get the categories\n",
    "            categories = lineDict.get('categories')\n",
    "\n",
    "            #if categories exists and 'books' is not a category for the product, we can discard the product\n",
    "            if categories != None:\n",
    "                #sanitize the categories into lowercase (for some reason categories is a list of lists that is always length 1\n",
    "                sanitizedCategories = [x.lower() for x in categories[0]]\n",
    "\n",
    "                #if books is not in categories, skip this product and delete the vars created, free mem\n",
    "                if 'books' not in sanitizedCategories:\n",
    "                    del lineDict\n",
    "                    del line\n",
    "                    del asin\n",
    "                    del categories\n",
    "                    del sanitizedCategories\n",
    "                    continue\n",
    "                #otherwise delete the categories objects to free memory\n",
    "                else:\n",
    "                    del categories\n",
    "                    del sanitizedCategories\n",
    "\n",
    "            #if the asin has been released by the review processor, merge it\n",
    "            if asin in released:\n",
    "\n",
    "                #remove released asin from released list to free memory\n",
    "                with releasedLock:\n",
    "                    released.remove(asin)\n",
    "\n",
    "                #for each review that has been processed, merge in metadata\n",
    "                for review in reviews[asin]:\n",
    "                    updatedReview = getWantedDataFromReviewAndProduct(review, lineDict)\n",
    "\n",
    "                    with mergedLock:\n",
    "                      merged.append(updatedReview)\n",
    "\n",
    "                    #cleanup\n",
    "                    del updatedReview\n",
    "                    del review\n",
    "\n",
    "                with reviewsLock:\n",
    "                    del reviews[asin]\n",
    "            else:\n",
    "                #otherwise, add relevant product metadata to product dict\n",
    "                with productsLock:\n",
    "                    products[asin] = {'title': lineDict.get('title')}\n",
    "\n",
    "            #cleanup objects in memory immediately\n",
    "            del lineDict\n",
    "            del asin\n",
    "            del line\n",
    "        else:\n",
    "            break\n",
    "\n",
    "def readReviews(path, reviews, reviewsLock, released, releasedLock, products, productsLock, merged, mergedLock):\n",
    "  #open the file at the specified path\n",
    "  with open(path, 'rb') as f:\n",
    "    \n",
    "    #for every line in the compressed file\n",
    "    previousAsin = 'Initial'\n",
    "    \n",
    "    \n",
    "    for line in f:\n",
    "        if len(merged) < 500000:\n",
    "            lineDict = eval(line)\n",
    "\n",
    "            #get the product key\n",
    "            asin = str(lineDict.get('asin'))\n",
    "            if asin == None:\n",
    "                del lineDict\n",
    "                del line\n",
    "                continue\n",
    "\n",
    "            if asin in reviews:\n",
    "                #if the product key is already in the reviews map, append the new review\n",
    "                with reviewsLock:\n",
    "                    reviews[asin].append(lineDict)\n",
    "            else:\n",
    "                #otherwise add this review as the first in the dict\n",
    "                with reviewsLock:\n",
    "                    reviews[asin] = [lineDict]\n",
    "\n",
    "            if previousAsin != asin:\n",
    "                #if previous asin is different from the next, we've added all reviews for that asin since file is organized by asin \n",
    "\n",
    "                #if the preivous asin has been read into products\n",
    "                if previousAsin in products:\n",
    "\n",
    "                    #get the product metadata\n",
    "                    productMetadata = products.get(previousAsin)\n",
    "\n",
    "                    #cleanup processed product, free memory\n",
    "                    with productsLock:\n",
    "                        del products[previousAsin]\n",
    "\n",
    "                    #for each review we've read, merge in metadata and add to merged list\n",
    "                    for review in reviews[previousAsin]:\n",
    "                        updatedReview = getWantedDataFromReviewAndProduct(review, productMetadata)\n",
    "\n",
    "                        with mergedLock:\n",
    "                            merged.append(updatedReview)\n",
    "\n",
    "                        #cleanup and free memory\n",
    "                        del updatedReview\n",
    "                        del review\n",
    "\n",
    "                    #cleanup processed reviews, free memory\n",
    "                    with reviewsLock:\n",
    "                        del reviews[previousAsin]\n",
    "\n",
    "                    del productMetadata\n",
    "                else:\n",
    "                    #if product has not been read in yet, add asin to released asins to be processed later\n",
    "                    with releasedLock:\n",
    "                        released.add(previousAsin)\n",
    "\n",
    "            #set the newest asin\n",
    "            previousAsin = str(asin)\n",
    "\n",
    "            #cleanup and free memory\n",
    "            del line\n",
    "            del lineDict\n",
    "        else:\n",
    "            break\n",
    "            \n",
    "def getWantedDataFromReviewAndProduct(review, product):\n",
    "    minimized = {}\n",
    "    \n",
    "    minimized['reviewerID'] = review.get('reviewerID')\n",
    "    minimized['asin'] = review.get('asin')\n",
    "    minimized['reviewerName'] = review.get('reviewerName')\n",
    "    minimized['helpful'] = review.get('helpful')\n",
    "    minimized['reviewText'] = review.get('reviewText')\n",
    "    minimized['overall'] = review.get('overall')\n",
    "    minimized['summary'] = review.get('summary')\n",
    "    \n",
    "    minimized['title'] = product.get('title')\n",
    "    \n",
    "    return minimized\n",
    "    \n",
    "\n",
    "#Start the timer\n",
    "start = time.time()\n",
    "\n",
    "#Initialize reviews dict and lock\n",
    "reviews = {}\n",
    "reviewsLock = threading.Lock()\n",
    "\n",
    "#Initialize products dict and lock\n",
    "products = {}\n",
    "productsLock = threading.Lock()\n",
    "\n",
    "#Initialize released reviews set and lock\n",
    "releasedReviews = set()\n",
    "releasedReviewsLock = threading.Lock()\n",
    "\n",
    "#Initialize merged reviews list and lock\n",
    "merged = []\n",
    "mergedLock = threading.Lock()\n",
    "\n",
    "#Create the thread which will process reviews\n",
    "reviewsThread = threading.Thread(target=readReviews, \n",
    "                                 args=(\n",
    "                                     'D:/Springboard/Capstone2_Data/reviews_books/reviews_books.json', \n",
    "                                     reviews, \n",
    "                                     reviewsLock,\n",
    "                                     releasedReviews,\n",
    "                                     releasedReviewsLock,\n",
    "                                     products,\n",
    "                                     productsLock,\n",
    "                                     merged,\n",
    "                                     mergedLock))\n",
    "\n",
    "#Create the thread to process products\n",
    "productsThread = threading.Thread(target=readProducts, \n",
    "                                 args=(\n",
    "                                     'D:/Springboard/Capstone2_Data/metadata/metadata.json', \n",
    "                                     reviews, \n",
    "                                     reviewsLock,\n",
    "                                     releasedReviews,\n",
    "                                     releasedReviewsLock,\n",
    "                                     products,\n",
    "                                     productsLock,\n",
    "                                     merged,\n",
    "                                     mergedLock))\n",
    "\n",
    "#Start concurrent threads\n",
    "reviewsThread.start()\n",
    "productsThread.start()\n",
    "\n",
    "#Wait for threads to complete work and print status messages in increments\n",
    "i = 0\n",
    "while reviewsThread.isAlive() or productsThread.isAlive():\n",
    "    if i % 3000000 == 0:\n",
    "        print ('Waiting... Reviews: ' + str(len(reviews)) + ', Products: ' + str(len(products)) + ', Merged: ' + str(len(merged)))\n",
    "        i += 1\n",
    "        pass\n",
    "    else:\n",
    "        i += 1\n",
    "        pass\n",
    "\n",
    "#Mark the end of processing time\n",
    "end = time.time()\n",
    "\n",
    "#print information about the processed resources\n",
    "print('Reviews Length: ' + str(len(reviews)))\n",
    "print('Products Length: ' + str(len(products)))\n",
    "print('Merged Length: ' + str(len(merged)))\n",
    "print('\\nExample: ' + str(merged[0]) + '\\n')\n",
    "\n",
    "#Calculate how long it took for this script to run\n",
    "elapsed = end - start\n",
    "\n",
    "#Print final run time in seconds\n",
    "print('Elapsed Time in Seconds: ' + str(elapsed))"
   ]
  },
  {
   "cell_type": "code",
   "execution_count": 18,
   "metadata": {},
   "outputs": [],
   "source": [
    "del products, releasedReviews, reviews\n",
    "\n",
    "#Convert to dataframe\n",
    "reviews_df = pd.DataFrame(merged)\n",
    "\n",
    "del merged"
   ]
  },
  {
   "cell_type": "code",
   "execution_count": 19,
   "metadata": {},
   "outputs": [
    {
     "data": {
      "text/html": [
       "<div>\n",
       "<style>\n",
       "    .dataframe thead tr:only-child th {\n",
       "        text-align: right;\n",
       "    }\n",
       "\n",
       "    .dataframe thead th {\n",
       "        text-align: left;\n",
       "    }\n",
       "\n",
       "    .dataframe tbody tr th {\n",
       "        vertical-align: top;\n",
       "    }\n",
       "</style>\n",
       "<table border=\"1\" class=\"dataframe\">\n",
       "  <thead>\n",
       "    <tr style=\"text-align: right;\">\n",
       "      <th></th>\n",
       "      <th>asin</th>\n",
       "      <th>helpful</th>\n",
       "      <th>overall</th>\n",
       "      <th>reviewText</th>\n",
       "      <th>reviewerID</th>\n",
       "      <th>reviewerName</th>\n",
       "      <th>summary</th>\n",
       "      <th>title</th>\n",
       "    </tr>\n",
       "  </thead>\n",
       "  <tbody>\n",
       "    <tr>\n",
       "      <th>0</th>\n",
       "      <td>000100039X</td>\n",
       "      <td>[0, 0]</td>\n",
       "      <td>5.0</td>\n",
       "      <td>Spiritually and mentally inspiring! A book tha...</td>\n",
       "      <td>A10000012B7CGYKOMPQ4L</td>\n",
       "      <td>Adam</td>\n",
       "      <td>Wonderful!</td>\n",
       "      <td>The Prophet</td>\n",
       "    </tr>\n",
       "    <tr>\n",
       "      <th>1</th>\n",
       "      <td>000100039X</td>\n",
       "      <td>[0, 2]</td>\n",
       "      <td>5.0</td>\n",
       "      <td>This is one my must have books. It is a master...</td>\n",
       "      <td>A2S166WSCFIFP5</td>\n",
       "      <td>adead_poet@hotmail.com \"adead_poet@hotmail.com\"</td>\n",
       "      <td>close to god</td>\n",
       "      <td>The Prophet</td>\n",
       "    </tr>\n",
       "    <tr>\n",
       "      <th>2</th>\n",
       "      <td>000100039X</td>\n",
       "      <td>[0, 0]</td>\n",
       "      <td>5.0</td>\n",
       "      <td>This book provides a reflection that you can a...</td>\n",
       "      <td>A1BM81XB4QHOA3</td>\n",
       "      <td>Ahoro Blethends \"Seriously\"</td>\n",
       "      <td>Must Read for Life Afficianados</td>\n",
       "      <td>The Prophet</td>\n",
       "    </tr>\n",
       "    <tr>\n",
       "      <th>3</th>\n",
       "      <td>000100039X</td>\n",
       "      <td>[0, 0]</td>\n",
       "      <td>5.0</td>\n",
       "      <td>I first read THE PROPHET in college back in th...</td>\n",
       "      <td>A1MOSTXNIO5MPJ</td>\n",
       "      <td>Alan Krug</td>\n",
       "      <td>Timeless for every good and bad time in your l...</td>\n",
       "      <td>The Prophet</td>\n",
       "    </tr>\n",
       "    <tr>\n",
       "      <th>4</th>\n",
       "      <td>000100039X</td>\n",
       "      <td>[7, 9]</td>\n",
       "      <td>5.0</td>\n",
       "      <td>A timeless classic.  It is a very demanding an...</td>\n",
       "      <td>A2XQ5LZHTD4AFT</td>\n",
       "      <td>Alaturka</td>\n",
       "      <td>A Modern Rumi</td>\n",
       "      <td>The Prophet</td>\n",
       "    </tr>\n",
       "  </tbody>\n",
       "</table>\n",
       "</div>"
      ],
      "text/plain": [
       "         asin helpful  overall  \\\n",
       "0  000100039X  [0, 0]      5.0   \n",
       "1  000100039X  [0, 2]      5.0   \n",
       "2  000100039X  [0, 0]      5.0   \n",
       "3  000100039X  [0, 0]      5.0   \n",
       "4  000100039X  [7, 9]      5.0   \n",
       "\n",
       "                                          reviewText             reviewerID  \\\n",
       "0  Spiritually and mentally inspiring! A book tha...  A10000012B7CGYKOMPQ4L   \n",
       "1  This is one my must have books. It is a master...         A2S166WSCFIFP5   \n",
       "2  This book provides a reflection that you can a...         A1BM81XB4QHOA3   \n",
       "3  I first read THE PROPHET in college back in th...         A1MOSTXNIO5MPJ   \n",
       "4  A timeless classic.  It is a very demanding an...         A2XQ5LZHTD4AFT   \n",
       "\n",
       "                                      reviewerName  \\\n",
       "0                                             Adam   \n",
       "1  adead_poet@hotmail.com \"adead_poet@hotmail.com\"   \n",
       "2                      Ahoro Blethends \"Seriously\"   \n",
       "3                                        Alan Krug   \n",
       "4                                         Alaturka   \n",
       "\n",
       "                                             summary        title  \n",
       "0                                         Wonderful!  The Prophet  \n",
       "1                                       close to god  The Prophet  \n",
       "2                    Must Read for Life Afficianados  The Prophet  \n",
       "3  Timeless for every good and bad time in your l...  The Prophet  \n",
       "4                                      A Modern Rumi  The Prophet  "
      ]
     },
     "execution_count": 19,
     "metadata": {},
     "output_type": "execute_result"
    }
   ],
   "source": [
    "reviews_df.head()"
   ]
  },
  {
   "cell_type": "code",
   "execution_count": 21,
   "metadata": {},
   "outputs": [
    {
     "name": "stdout",
     "output_type": "stream",
     "text": [
      "Number of reviews: 500005\n",
      "Number of books reviewed: 12284\n",
      "Number of unique readers: 214608\n"
     ]
    }
   ],
   "source": [
    "print('Number of reviews:', len(reviews_df))\n",
    "print('Number of books reviewed:', len(reviews_df.asin.value_counts()))\n",
    "print('Number of unique readers:', len(reviews_df.reviewerID.value_counts()))"
   ]
  },
  {
   "cell_type": "markdown",
   "metadata": {},
   "source": [
    "## Data Cleaning"
   ]
  },
  {
   "cell_type": "code",
   "execution_count": 22,
   "metadata": {},
   "outputs": [
    {
     "data": {
      "text/html": [
       "<div>\n",
       "<style>\n",
       "    .dataframe thead tr:only-child th {\n",
       "        text-align: right;\n",
       "    }\n",
       "\n",
       "    .dataframe thead th {\n",
       "        text-align: left;\n",
       "    }\n",
       "\n",
       "    .dataframe tbody tr th {\n",
       "        vertical-align: top;\n",
       "    }\n",
       "</style>\n",
       "<table border=\"1\" class=\"dataframe\">\n",
       "  <thead>\n",
       "    <tr style=\"text-align: right;\">\n",
       "      <th></th>\n",
       "      <th>asin</th>\n",
       "      <th>helpful</th>\n",
       "      <th>overall</th>\n",
       "      <th>reviewerID</th>\n",
       "      <th>reviewerName</th>\n",
       "      <th>title</th>\n",
       "      <th>full_text</th>\n",
       "    </tr>\n",
       "  </thead>\n",
       "  <tbody>\n",
       "    <tr>\n",
       "      <th>0</th>\n",
       "      <td>000100039X</td>\n",
       "      <td>[0, 0]</td>\n",
       "      <td>5.0</td>\n",
       "      <td>A10000012B7CGYKOMPQ4L</td>\n",
       "      <td>Adam</td>\n",
       "      <td>The Prophet</td>\n",
       "      <td>Wonderful!. Spiritually and mentally inspiring...</td>\n",
       "    </tr>\n",
       "    <tr>\n",
       "      <th>1</th>\n",
       "      <td>000100039X</td>\n",
       "      <td>[0, 2]</td>\n",
       "      <td>5.0</td>\n",
       "      <td>A2S166WSCFIFP5</td>\n",
       "      <td>adead_poet@hotmail.com \"adead_poet@hotmail.com\"</td>\n",
       "      <td>The Prophet</td>\n",
       "      <td>close to god. This is one my must have books. ...</td>\n",
       "    </tr>\n",
       "    <tr>\n",
       "      <th>2</th>\n",
       "      <td>000100039X</td>\n",
       "      <td>[0, 0]</td>\n",
       "      <td>5.0</td>\n",
       "      <td>A1BM81XB4QHOA3</td>\n",
       "      <td>Ahoro Blethends \"Seriously\"</td>\n",
       "      <td>The Prophet</td>\n",
       "      <td>Must Read for Life Afficianados. This book pro...</td>\n",
       "    </tr>\n",
       "    <tr>\n",
       "      <th>3</th>\n",
       "      <td>000100039X</td>\n",
       "      <td>[0, 0]</td>\n",
       "      <td>5.0</td>\n",
       "      <td>A1MOSTXNIO5MPJ</td>\n",
       "      <td>Alan Krug</td>\n",
       "      <td>The Prophet</td>\n",
       "      <td>Timeless for every good and bad time in your l...</td>\n",
       "    </tr>\n",
       "    <tr>\n",
       "      <th>4</th>\n",
       "      <td>000100039X</td>\n",
       "      <td>[7, 9]</td>\n",
       "      <td>5.0</td>\n",
       "      <td>A2XQ5LZHTD4AFT</td>\n",
       "      <td>Alaturka</td>\n",
       "      <td>The Prophet</td>\n",
       "      <td>A Modern Rumi. A timeless classic.  It is a ve...</td>\n",
       "    </tr>\n",
       "  </tbody>\n",
       "</table>\n",
       "</div>"
      ],
      "text/plain": [
       "         asin helpful  overall             reviewerID  \\\n",
       "0  000100039X  [0, 0]      5.0  A10000012B7CGYKOMPQ4L   \n",
       "1  000100039X  [0, 2]      5.0         A2S166WSCFIFP5   \n",
       "2  000100039X  [0, 0]      5.0         A1BM81XB4QHOA3   \n",
       "3  000100039X  [0, 0]      5.0         A1MOSTXNIO5MPJ   \n",
       "4  000100039X  [7, 9]      5.0         A2XQ5LZHTD4AFT   \n",
       "\n",
       "                                      reviewerName        title  \\\n",
       "0                                             Adam  The Prophet   \n",
       "1  adead_poet@hotmail.com \"adead_poet@hotmail.com\"  The Prophet   \n",
       "2                      Ahoro Blethends \"Seriously\"  The Prophet   \n",
       "3                                        Alan Krug  The Prophet   \n",
       "4                                         Alaturka  The Prophet   \n",
       "\n",
       "                                           full_text  \n",
       "0  Wonderful!. Spiritually and mentally inspiring...  \n",
       "1  close to god. This is one my must have books. ...  \n",
       "2  Must Read for Life Afficianados. This book pro...  \n",
       "3  Timeless for every good and bad time in your l...  \n",
       "4  A Modern Rumi. A timeless classic.  It is a ve...  "
      ]
     },
     "execution_count": 22,
     "metadata": {},
     "output_type": "execute_result"
    }
   ],
   "source": [
    "#Combine summary into review text for full text analysis\n",
    "reviews_df['full_text'] = reviews_df.summary + '. ' + reviews_df.reviewText\n",
    "\n",
    "del reviews_df['summary']\n",
    "del reviews_df['reviewText']\n",
    "\n",
    "reviews_df.head()"
   ]
  },
  {
   "cell_type": "code",
   "execution_count": 23,
   "metadata": {},
   "outputs": [
    {
     "data": {
      "text/plain": [
       "\"Great book!!. This was another great book in the divergent series. I love the entire series definitely recommend. I'm a pretty picky reader, the Divergent series is worth reading.\""
      ]
     },
     "execution_count": 23,
     "metadata": {},
     "output_type": "execute_result"
    }
   ],
   "source": [
    "#Read a review\n",
    "reviews_df.full_text[34589]"
   ]
  },
  {
   "cell_type": "code",
   "execution_count": 24,
   "metadata": {},
   "outputs": [
    {
     "data": {
      "text/plain": [
       "asin             object\n",
       "helpful          object\n",
       "overall         float64\n",
       "reviewerID       object\n",
       "reviewerName     object\n",
       "title            object\n",
       "full_text        object\n",
       "dtype: object"
      ]
     },
     "execution_count": 24,
     "metadata": {},
     "output_type": "execute_result"
    }
   ],
   "source": [
    "#Check data types\n",
    "reviews_df.dtypes"
   ]
  },
  {
   "cell_type": "markdown",
   "metadata": {},
   "source": [
    "## Data Exploration"
   ]
  },
  {
   "cell_type": "markdown",
   "metadata": {},
   "source": [
    "Let's explore how these reviews are split between favorable and unfavorable reviews.  I consider a review with a rating of 3.0 to be neutral, 4.0 or above favorable, and 2.0 or below unfavorable.  Half-stars for individual reviews are not possible."
   ]
  },
  {
   "cell_type": "code",
   "execution_count": 25,
   "metadata": {},
   "outputs": [
    {
     "name": "stdout",
     "output_type": "stream",
     "text": [
      "Pct of favorable reviews (4.0 or higher): 78.46\n",
      "Pct of unfavorable reviews (2.0 or lower): 9.43\n"
     ]
    }
   ],
   "source": [
    "print('Pct of favorable reviews (4.0 or higher): {:.2f}'.format(reviews_df[reviews_df.overall >= 4.0].size * 100 / reviews_df.size))\n",
    "print('Pct of unfavorable reviews (2.0 or lower): {:.2f}'.format(reviews_df[reviews_df.overall <= 2.0].size * 100 / reviews_df.size))"
   ]
  },
  {
   "cell_type": "markdown",
   "metadata": {},
   "source": [
    "It appears that either readers more often buy books they know they'll enjoy or only take the time to write a review if they find the book engaging.  We can also determine if certain users more reliably rate favorably or if reviews are mixed for most users."
   ]
  },
  {
   "cell_type": "code",
   "execution_count": 26,
   "metadata": {},
   "outputs": [
    {
     "name": "stdout",
     "output_type": "stream",
     "text": [
      "                           overall        pct\n",
      "Average rating of 5 stars   123269  57.439145\n",
      "Average rating of 4 stars    51865  24.167319\n",
      "Average rating of 3 stars    21111   9.837005\n",
      "Average rating of 2 stars    10451   4.869809\n",
      "Average rating of 1 stars     7912   3.686722\n"
     ]
    }
   ],
   "source": [
    "#Group by reviewer ID, find mean of their ratings and sorts into 5 bins (one for each star rating)\n",
    "g = reviews_df.groupby('reviewerID')['overall'].mean().value_counts(bins = 5).sort_index(ascending = False)\n",
    "g.index = ['Average rating of 5 stars','Average rating of 4 stars','Average rating of 3 stars','Average rating of 2 stars','Average rating of 1 stars']\n",
    "g = g.to_frame()\n",
    "g = g.assign(pct = g.overall * 100 / g.overall.sum())\n",
    "print(g)"
   ]
  },
  {
   "cell_type": "code",
   "execution_count": 27,
   "metadata": {},
   "outputs": [
    {
     "data": {
      "image/png": "[encoded data removed]",
      "text/plain": [
       "<matplotlib.figure.Figure at 0x26b1011d6d8>"
      ]
     },
     "metadata": {},
     "output_type": "display_data"
    }
   ],
   "source": [
    "%matplotlib inline\n",
    "import matplotlib.pyplot as plt\n",
    "\n",
    "#Visualize average rating by users\n",
    "g.pct.plot(kind = 'barh', color = 'tomato');\n",
    "plt.title('Percentage of Reviewers with Avg Star Ratings', fontweight = 'bold');\n",
    "plt.xlabel('Percentage');"
   ]
  },
  {
   "cell_type": "markdown",
   "metadata": {},
   "source": [
    "We can see that almost 60% of users reliably rate books with 5 stars while just about 5% reliably rate books with 1 or 2 stars.\n",
    "\n",
    "Next, we'll evaluate which words are most commonly used across all reviews."
   ]
  },
  {
   "cell_type": "code",
   "execution_count": null,
   "metadata": {},
   "outputs": [],
   "source": [
    "from sklearn.feature_extraction.text import CountVectorizer\n",
    "import string\n",
    "import numpy as np\n",
    "from nltk import word_tokenize          \n",
    "from nltk.stem.porter import PorterStemmer\n",
    "\n",
    "stemmer = PorterStemmer()\n",
    "def stem_tokens(tokens, stemmer):\n",
    "    stemmed = []\n",
    "    for item in tokens:\n",
    "        stemmed.append(stemmer.stem(item))\n",
    "    return stemmed\n",
    "\n",
    "def tokenize(text):\n",
    "    tokens = word_tokenize(text)\n",
    "    stems = stem_tokens(tokens, stemmer)\n",
    "    return stems\n",
    "\n",
    "vect_one = CountVectorizer(max_features = 100, ngram_range = (1,1), stop_words = 'english', tokenizer = tokenize)\n",
    "one_gram = vect_one.fit_transform(reviews_df.full_text)\n",
    "X_one = one_gram.tocsc()\n",
    "\n",
    "#Zip together words and their frequencies\n",
    "freq_one = zip(vect_one.get_feature_names(), np.asarray(X_one.sum(axis=0)).ravel())\n",
    "sort_freq_one = sorted(list(freq_one), key=lambda x: x[1], reverse = True)"
   ]
  },
  {
   "cell_type": "code",
   "execution_count": 44,
   "metadata": {},
   "outputs": [
    {
     "name": "stdout",
     "output_type": "stream",
     "text": [
      "Feature is \" book \" with frequency 1098512\n",
      "Feature is \" thi \" with frequency 1033239\n",
      "Feature is \" 's \" with frequency 825636\n",
      "Feature is \" wa \" with frequency 769750\n",
      "Feature is \" read \" with frequency 582223\n",
      "Feature is \" n't \" with frequency 455710\n",
      "Feature is \" hi \" with frequency 432373\n",
      "Feature is \" stori \" with frequency 386095\n",
      "Feature is \" `` \" with frequency 320213\n",
      "Feature is \" like \" with frequency 315746\n",
      "Feature is \" love \" with frequency 304099\n",
      "Feature is \" '' \" with frequency 294849\n",
      "Feature is \" ha \" with frequency 277895\n",
      "Feature is \" charact \" with frequency 260829\n",
      "Feature is \" just \" with frequency 229364\n",
      "Feature is \" time \" with frequency 219879\n",
      "Feature is \" veri \" with frequency 206714\n",
      "Feature is \" good \" with frequency 205599\n",
      "Feature is \" did \" with frequency 186531\n",
      "Feature is \" great \" with frequency 181004\n"
     ]
    }
   ],
   "source": [
    "#Print top 20 most frequent that are not punctuation marks\n",
    "no_punc = [i for i in sort_freq_one if i[0] not in string.punctuation]\n",
    "for feature, score in no_punc[0:20]:\n",
    "    print('Feature is \\\"',feature, '\\\" with frequency',score)"
   ]
  },
  {
   "cell_type": "markdown",
   "metadata": {},
   "source": [
    "Now, let's run the same analysis with bi-grams."
   ]
  },
  {
   "cell_type": "code",
   "execution_count": null,
   "metadata": {},
   "outputs": [],
   "source": [
    "#del vect_one, one_gram, X_one\n",
    "\n",
    "vect_two = CountVectorizer(max_features = 100, ngram_range = (2,2), stop_words = 'english', tokenizer = tokenize)\n",
    "two_gram = vect_two.fit_transform(reviews_df.full_text)\n",
    "X_two = two_gram.tocsc()\n",
    "\n",
    "#Zip together words and their frequencies\n",
    "freq_two = zip(vect_two.get_feature_names(), np.asarray(X_two.sum(axis=0)).ravel())\n",
    "sort_freq_two = sorted(list(freq_two), key=lambda x: x[1], reverse = True)"
   ]
  },
  {
   "cell_type": "code",
   "execution_count": 86,
   "metadata": {},
   "outputs": [
    {
     "name": "stdout",
     "output_type": "stream",
     "text": [
      "Feature is \" thi book \" with frequency 368312\n",
      "Feature is \" read thi \" with frequency 66198\n",
      "Feature is \" book wa \" with frequency 48223\n",
      "Feature is \" thi wa \" with frequency 40071\n",
      "Feature is \" read book \" with frequency 34802\n",
      "Feature is \" thi stori \" with frequency 32338\n",
      "Feature is \" love thi \" with frequency 30928\n",
      "Feature is \" thi seri \" with frequency 28045\n",
      "Feature is \" thi novel \" with frequency 24794\n",
      "Feature is \" main charact \" with frequency 23868\n",
      "Feature is \" enjoy thi \" with frequency 23526\n",
      "Feature is \" like thi \" with frequency 23258\n",
      "Feature is \" recommend thi \" with frequency 23204\n",
      "Feature is \" book read \" with frequency 21848\n",
      "Feature is \" wa veri \" with frequency 20949\n"
     ]
    }
   ],
   "source": [
    "#Print most frequent that are not punctuation marks\n",
    "def check_punc(line):\n",
    "    for l in line[0]:\n",
    "        if l in string.punctuation:\n",
    "            return\n",
    "    return line\n",
    "\n",
    "no_punc = [(lambda x: check_punc(x))(x) for x in sort_freq_two]\n",
    "short = [x for x in no_punc if x is not None]\n",
    "for feature, score in short:\n",
    "    print('Feature is \\\"',feature, '\\\" with frequency',score)"
   ]
  },
  {
   "cell_type": "markdown",
   "metadata": {},
   "source": [
    "## Naive Bayes Modeling"
   ]
  },
  {
   "cell_type": "markdown",
   "metadata": {},
   "source": [
    "We begin our analysis by training a Naive Bayes model to gauge sentiment classification on the book review text.\n",
    "\n",
    "$$P(c \\vert f) = \\frac{P(c \\cap f)}{P(f)}$$\n",
    "\n",
    "where c represents the classification of \"favorable\" (overall score of 4.0 or higher) and f represents a feature vector of words.  Therefore, we are finding the probability of a favorable rating given a certain bag-of-words representation of a textual book review."
   ]
  },
  {
   "cell_type": "code",
   "execution_count": null,
   "metadata": {},
   "outputs": [],
   "source": [
    "def make_xy(df, vectorizer=None):\n",
    "    if vectorizer is None:\n",
    "         vectorizer = CountVectorizer(max_df = 0.95)\n",
    "    X = vectorizer.fit_transform(df.full_text)\n",
    "    X = X.tocsc() \n",
    "    y = (reviews_df.overall >= 4.0).values #pull only favorable reviews\n",
    "    return X, y\n",
    "\n",
    "X, y = make_xy(reviews_df)"
   ]
  },
  {
   "cell_type": "code",
   "execution_count": null,
   "metadata": {},
   "outputs": [],
   "source": [
    "total = X.sum().tolist()\n",
    "total_values = total[0].sort()\n",
    "type(X)"
   ]
  },
  {
   "cell_type": "code",
   "execution_count": null,
   "metadata": {},
   "outputs": [],
   "source": [
    "\n",
    "# # Initalize total list\n",
    "# total = np.array([0] * X.shape[1])\n",
    "\n",
    "# #Add up all reviews in X and sort\n",
    "# for review in X:\n",
    "#     total += review\n",
    "# total = total.tolist()\n",
    "# total_values = total[0].sort()\n",
    "\n",
    "# #Create dictionary for frequencies\n",
    "# d = {x:total_values.count(x) for x in total_values}\n",
    "\n",
    "# a, b = d.keys(), d.values()\n",
    "# pct = np.divide(np.cumsum(list(b)), X.shape[1])\n",
    "# plt.plot(list(a), pct);\n",
    "# plt.xlabel('Number of appearances');\n",
    "# plt.ylabel('Pct of words');\n",
    "# plt.title('Frequency of words in documents');"
   ]
  },
  {
   "cell_type": "code",
   "execution_count": null,
   "metadata": {},
   "outputs": [],
   "source": [
    "from sklearn.model_selection import train_test_split\n",
    "from sklearn.naive_bayes import MultinomialNB\n",
    "from sklearn.metrics import accuracy_score\n",
    "\n",
    "xtrain, xtest, ytrain, ytest = train_test_split(X, y, test_size = 0.3, random_state = 10)\n",
    "clf = MultinomialNB()\n",
    "\n",
    "clf.fit(xtrain, ytrain)\n",
    "test_score = accuracy_score(clf.predict(xtest), ytest)\n",
    "train_score = accuracy_score(clf.predict(xtrain), ytrain)\n",
    "print('Accuracy of training set: {:.2f} \\nAccuracy of test set: {:.2f}'.format(train_score, test_score))"
   ]
  },
  {
   "cell_type": "code",
   "execution_count": null,
   "metadata": {
    "collapsed": true
   },
   "outputs": [],
   "source": []
  }
 ],
 "metadata": {
  "kernelspec": {
   "display_name": "Python 3",
   "language": "python",
   "name": "python3"
  },
  "language_info": {
   "codemirror_mode": {
    "name": "ipython",
    "version": 3
   },
   "file_extension": ".py",
   "mimetype": "text/x-python",
   "name": "python",
   "nbconvert_exporter": "python",
   "pygments_lexer": "ipython3",
   "version": "3.6.1"
  }
 },
 "nbformat": 4,
 "nbformat_minor": 2
}
